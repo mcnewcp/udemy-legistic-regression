{
 "cells": [
  {
   "cell_type": "markdown",
   "metadata": {},
   "source": [
    "First generating some data to work with.   "
   ]
  },
  {
   "cell_type": "code",
   "execution_count": 1,
   "metadata": {},
   "outputs": [],
   "source": [
    "import numpy as np\n",
    "\n",
    "#generate some data to work with\n",
    "N = 100\n",
    "D = 2\n",
    "X = np.random.randn(N,D)\n",
    "\n",
    "#add a column of ones to handle bias term (e.g. intercept)\n",
    "ones = np.array([[1]*N]).T\n",
    "Xb = np.concatenate((ones, X), axis=1)\n",
    "\n",
    "#randomly initialize weight vector\n",
    "w = np.random.randn(D + 1)"
   ]
  },
  {
   "cell_type": "markdown",
   "metadata": {},
   "source": [
    "Now doing the matrix multiplcation to calculate output of logistic regression. Matrix multiplcation in numpy is function `.dot`"
   ]
  },
  {
   "cell_type": "code",
   "execution_count": 3,
   "metadata": {},
   "outputs": [
    {
     "name": "stdout",
     "output_type": "stream",
     "text": [
      "[0.44975163 0.3512735  0.32354067 0.60517712 0.47387507 0.58167187\n",
      " 0.57052423 0.44349095 0.32278988 0.44916741 0.83373643 0.42522965\n",
      " 0.35354451 0.3133978  0.44358951 0.71107547 0.17173196 0.54459101\n",
      " 0.26587315 0.55317951 0.41729392 0.13295999 0.57401809 0.41332276\n",
      " 0.59513871 0.73067995 0.5325145  0.11956073 0.33592218 0.86706199\n",
      " 0.89994073 0.46242649 0.54784638 0.21231498 0.71081254 0.4291324\n",
      " 0.41110302 0.16267328 0.56502614 0.42146181 0.56456985 0.54123369\n",
      " 0.4518703  0.71069229 0.1883482  0.84132917 0.51302929 0.32274273\n",
      " 0.75687876 0.45392237 0.45356787 0.47416207 0.25167484 0.33444002\n",
      " 0.74731839 0.48338862 0.356109   0.51008981 0.73411642 0.71276881\n",
      " 0.65681374 0.59572948 0.58208112 0.72899341 0.3319758  0.41781343\n",
      " 0.75726205 0.45083588 0.73202785 0.47069111 0.24804534 0.39933122\n",
      " 0.25692231 0.39079097 0.37297638 0.64041012 0.58401168 0.29270653\n",
      " 0.75562376 0.55499057 0.3163587  0.59239287 0.35238642 0.72448266\n",
      " 0.60249069 0.44991751 0.58814542 0.36423283 0.09990311 0.30835282\n",
      " 0.37724886 0.20625405 0.16284504 0.53296311 0.35636548 0.13878658\n",
      " 0.41091038 0.60863352 0.30448641 0.4550099 ]\n"
     ]
    }
   ],
   "source": [
    "#matrix multiplication\n",
    "z = Xb.dot(w)\n",
    "\n",
    "#add applying the sigmoid\n",
    "def sigmoid(z):\n",
    "    return 1/(1+np.exp(-z))\n",
    "print(sigmoid(z))"
   ]
  },
  {
   "cell_type": "markdown",
   "metadata": {},
   "source": [
    "Output is 100 x 1 as expected and values are between 0-1 as expected."
   ]
  },
  {
   "cell_type": "markdown",
   "metadata": {},
   "source": []
  }
 ],
 "metadata": {
  "interpreter": {
   "hash": "217afb6d47e1ecfe9bc2bb1d008138758dfc335ae7a13eb273c90375d6240835"
  },
  "kernelspec": {
   "display_name": "Python 3.9.4 64-bit ('test-env': conda)",
   "language": "python",
   "name": "python3"
  },
  "language_info": {
   "codemirror_mode": {
    "name": "ipython",
    "version": 3
   },
   "file_extension": ".py",
   "mimetype": "text/x-python",
   "name": "python",
   "nbconvert_exporter": "python",
   "pygments_lexer": "ipython3",
   "version": "3.9.4"
  },
  "orig_nbformat": 4
 },
 "nbformat": 4,
 "nbformat_minor": 2
}
