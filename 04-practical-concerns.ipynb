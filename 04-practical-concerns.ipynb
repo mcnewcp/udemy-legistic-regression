{
 "cells": [
  {
   "cell_type": "markdown",
   "metadata": {},
   "source": [
    "# Set Up\n",
    "\n",
    "## Generate Dataset"
   ]
  },
  {
   "cell_type": "code",
   "execution_count": 1,
   "metadata": {},
   "outputs": [],
   "source": [
    "import numpy as np\n",
    "import matplotlib.pyplot as plt\n",
    "\n",
    "#generate some data\n",
    "#number of samples\n",
    "N = 100\n",
    "#dimensionality\n",
    "D = 2\n",
    "X = np.random.randn(N,D)\n",
    "X[:50, :] = X[:50,:] - 2*np.ones((50,D))\n",
    "X[50:, :] = X[50:,:] + 2*np.ones((50,D))\n",
    "\n",
    "#generate some labels (i.e. target variable)\n",
    "T = np.array([0]*50 + [1]*50)\n",
    "\n",
    "#adding bias (intercept) term\n",
    "ones = np.array([[1]*N]).T\n",
    "Xb = np.concatenate((ones, X), axis=1)\n"
   ]
  },
  {
   "cell_type": "markdown",
   "metadata": {},
   "source": [
    "## Initialize Model"
   ]
  },
  {
   "cell_type": "code",
   "execution_count": 2,
   "metadata": {},
   "outputs": [],
   "source": [
    "#randomly initialize weight vector\n",
    "w = np.random.randn(D + 1)\n",
    "\n",
    "#model output\n",
    "z = Xb.dot(w)\n",
    "\n",
    "#add applying the sigmoid function\n",
    "def sigmoid(z):\n",
    "    return 1/(1+np.exp(-z))\n",
    "Y = sigmoid(z)\n"
   ]
  },
  {
   "cell_type": "markdown",
   "metadata": {},
   "source": [
    "## Define Error Function"
   ]
  },
  {
   "cell_type": "code",
   "execution_count": 3,
   "metadata": {},
   "outputs": [],
   "source": [
    "def cross_entropy(T, Y):\n",
    "    E = 0\n",
    "    for i in range(N):\n",
    "        if T[i] == 1:\n",
    "            E -= np.log(Y[i])\n",
    "        else:\n",
    "            E -= np.log(1 - Y[i])\n",
    "    return E"
   ]
  },
  {
   "cell_type": "markdown",
   "metadata": {},
   "source": [
    "## Gradient Descent"
   ]
  },
  {
   "cell_type": "code",
   "execution_count": 4,
   "metadata": {},
   "outputs": [
    {
     "name": "stdout",
     "output_type": "stream",
     "text": [
      "34.753491135555834\n",
      "34.753491135555834\n",
      "0.017358087674050164\n",
      "0.0171013808821983\n",
      "0.016852571393046804\n",
      "0.016611291420731738\n",
      "0.01637719607979603\n",
      "0.016149961609407015\n",
      "0.015929283761360956\n",
      "0.01571487633444055\n",
      "0.015506469839842026\n",
      "Final w: [-0.00750385  5.90228957  5.55817453]\n"
     ]
    }
   ],
   "source": [
    "learning_rate = 0.1\n",
    "print(cross_entropy(T, Y))\n",
    "#100 iterations of gradient descent\n",
    "for i in range(100):\n",
    "    #print cross entropy error every 10 steps\n",
    "    if i % 10 == 0:\n",
    "        print(cross_entropy(T, Y))\n",
    "    w += learning_rate * np.dot((T-Y).T, Xb)\n",
    "    Y = sigmoid(Xb.dot(w))\n",
    "\n",
    "print('Final w:', w)"
   ]
  },
  {
   "cell_type": "markdown",
   "metadata": {},
   "source": [
    "# L2 Regularization\n",
    "\n",
    "L2 regularization adds a penalty term to the cost function and shrinks weights closer to zero to reduce chance of overfitting.  The `l2` term (e.g. penalty) is usually between 0.1 - 1 but depends heavily on dataset.  This term can be treated as a hyperparameter.\n",
    "\n",
    "Adding a regularization term to gradient descent."
   ]
  },
  {
   "cell_type": "code",
   "execution_count": 5,
   "metadata": {},
   "outputs": [
    {
     "name": "stdout",
     "output_type": "stream",
     "text": [
      "0.01530381028412413\n",
      "0.01530381028412413\n",
      "2.1135647572453838e-05\n",
      "6.059658035361467e-05\n",
      "0.00015776571534102367\n",
      "0.00037646207786523833\n",
      "0.0008301286963331531\n",
      "0.0017039388015873155\n",
      "0.0032767656772812615\n",
      "0.005937132210872916\n",
      "0.010185763798209466\n",
      "Final w: [-0.13013805  5.73632017  5.38726581]\n"
     ]
    }
   ],
   "source": [
    "#randomly initialize weight vector\n",
    "w = np.random.randn(D + 1)\n",
    "\n",
    "l2 = 0.1\n",
    "learning_rate = 0.1\n",
    "\n",
    "print(cross_entropy(T, Y))\n",
    "#100 iterations of gradient descent\n",
    "for i in range(100):\n",
    "    #print cross entropy error every 10 steps\n",
    "    if i % 10 == 0:\n",
    "        print(cross_entropy(T, Y))\n",
    "    w += learning_rate * (np.dot((T-Y).T, Xb) - l2*w)\n",
    "    Y = sigmoid(Xb.dot(w))\n",
    "\n",
    "print('Final w:', w)"
   ]
  },
  {
   "cell_type": "markdown",
   "metadata": {},
   "source": [
    "Weights are much closer to zero."
   ]
  },
  {
   "cell_type": "markdown",
   "metadata": {},
   "source": [
    "# L1 Regularization\n",
    "\n",
    "Instead of shrinking weights, L1 regularization helps with wide datasets where dimensionality is large in comparison to sample size.  The `l1` term defines the size of the penalty.\n",
    "\n",
    "## Generataing a wide dataset"
   ]
  },
  {
   "cell_type": "code",
   "execution_count": 6,
   "metadata": {},
   "outputs": [],
   "source": [
    "#generate some data\n",
    "#number of samples\n",
    "N = 50\n",
    "#dimensionality\n",
    "D = 50\n",
    "X = (np.random.randn(N,D) - 0.5)*10\n",
    "\n",
    "#lets make the target depend entirely on the first three dimensions\n",
    "true_w = np.array([1, 0.5, -0.5] + [0]*(D-3))\n",
    "Y = np.round(sigmoid(X.dot(true_w) + np.random.randn(N)*0.5))\n",
    "\n"
   ]
  },
  {
   "cell_type": "markdown",
   "metadata": {},
   "source": [
    "## Gradient Descent\n",
    "\n",
    "Including `l1` term."
   ]
  },
  {
   "cell_type": "code",
   "execution_count": 7,
   "metadata": {},
   "outputs": [
    {
     "data": {
      "image/png": "[encoded data removed]",
      "text/plain": [
       "<Figure size 432x288 with 1 Axes>"
      ]
     },
     "metadata": {
      "needs_background": "light"
     },
     "output_type": "display_data"
    },
    {
     "data": {
      "image/png": "[encoded data removed]",
      "text/plain": [
       "<Figure size 432x288 with 1 Axes>"
      ]
     },
     "metadata": {
      "needs_background": "light"
     },
     "output_type": "display_data"
    }
   ],
   "source": [
    "#randomly initialize weight vector\n",
    "w = np.random.randn(D) / np.sqrt(D)\n",
    "\n",
    "costs = []\n",
    "learning_rate = 0.0001\n",
    "l1 = 2.0\n",
    "\n",
    "for t in range(5000):\n",
    "    Yhat = sigmoid(X.dot(w))\n",
    "    delta = Yhat - Y\n",
    "    w = w - learning_rate*(X.T.dot(delta) + l1*np.sign(w))\n",
    "\n",
    "    cost = -(Y*np.log(Yhat) + (1-Y)*np.log(1 - Yhat)).mean() + l1*np.abs(w).mean()\n",
    "    costs.append(cost)\n",
    "\n",
    "#plotting costs\n",
    "plt.plot(costs)\n",
    "plt.show()\n",
    "\n",
    "#and plotting true w vs w from gradient descent\n",
    "plt.plot(true_w, label='true w')\n",
    "plt.plot(w, label='w map')\n",
    "plt.legend()\n",
    "plt.show()"
   ]
  },
  {
   "cell_type": "markdown",
   "metadata": {},
   "source": [
    "The costs converge very quickly.  The weights are similar to the true weights, but there are still a few != 0 that should be zero.  Increasing the `l1` term and trying again."
   ]
  },
  {
   "cell_type": "code",
   "execution_count": 8,
   "metadata": {},
   "outputs": [
    {
     "data": {
      "image/png": "[encoded data removed]",
      "text/plain": [
       "<Figure size 432x288 with 1 Axes>"
      ]
     },
     "metadata": {
      "needs_background": "light"
     },
     "output_type": "display_data"
    },
    {
     "data": {
      "image/png": "[encoded data removed]",
      "text/plain": [
       "<Figure size 432x288 with 1 Axes>"
      ]
     },
     "metadata": {
      "needs_background": "light"
     },
     "output_type": "display_data"
    }
   ],
   "source": [
    "#randomly initialize weight vector\n",
    "w = np.random.randn(D) / np.sqrt(D)\n",
    "\n",
    "costs = []\n",
    "learning_rate = 0.0001\n",
    "l1 = 5.0\n",
    "\n",
    "for t in range(5000):\n",
    "    Yhat = sigmoid(X.dot(w))\n",
    "    delta = Yhat - Y\n",
    "    w = w - learning_rate*(X.T.dot(delta) + l1*np.sign(w))\n",
    "\n",
    "    cost = -(Y*np.log(Yhat) + (1-Y)*np.log(1 - Yhat)).mean() + l1*np.abs(w).mean()\n",
    "    costs.append(cost)\n",
    "\n",
    "#plotting costs\n",
    "plt.plot(costs)\n",
    "plt.show()\n",
    "\n",
    "#and plotting true w vs w from gradient descent\n",
    "plt.plot(true_w, label='true w')\n",
    "plt.plot(w, label='w map')\n",
    "plt.legend()\n",
    "plt.show()"
   ]
  },
  {
   "cell_type": "markdown",
   "metadata": {},
   "source": [
    "# The Donut Problem\n",
    "\n",
    "## Generate the donut data"
   ]
  },
  {
   "cell_type": "code",
   "execution_count": 15,
   "metadata": {},
   "outputs": [
    {
     "data": {
      "image/png": "[encoded data removed]",
      "text/plain": [
       "<Figure size 432x288 with 1 Axes>"
      ]
     },
     "metadata": {
      "needs_background": "light"
     },
     "output_type": "display_data"
    }
   ],
   "source": [
    "N = 1000\n",
    "D = 2\n",
    "\n",
    "R_inner = 5\n",
    "R_outer = 10\n",
    "\n",
    "R1 = np.random.randn(int(N/2)) + R_inner\n",
    "theta = 2*np.pi*np.random.random(int(N/2))\n",
    "X_inner = np.concatenate([[R1 * np.cos(theta)], [R1 * np.sin(theta)]]).T\n",
    "\n",
    "R2 = np.random.rand(int(N/2)) + R_outer\n",
    "theta = 2*np.pi*np.random.random(int(N/2))\n",
    "X_outer = np.concatenate([[R2 * np.cos(theta)], [R2 * np.sin(theta)]]).T\n",
    "\n",
    "X = np.concatenate([X_inner, X_outer])\n",
    "T = np.array([0]*int(N/2) + [1]*int(N/2))\n",
    "\n",
    "#take a look\n",
    "plt.scatter(X[:,0], X[:,1], c=T)\n",
    "plt.show()"
   ]
  },
  {
   "cell_type": "markdown",
   "metadata": {},
   "source": [
    "This data is not linearly seperable, which is an assumption of applying logistic regression."
   ]
  },
  {
   "cell_type": "markdown",
   "metadata": {},
   "source": [
    "## Feature Engineering"
   ]
  },
  {
   "cell_type": "code",
   "execution_count": 16,
   "metadata": {},
   "outputs": [],
   "source": [
    "#adding ones for a bias term (intercept)\n",
    "ones = np.array([[1]*N]).T\n",
    "\n",
    "#adding a new dimension which measures radius from center\n",
    "r = np.zeros((N,1))\n",
    "for i in range(N):\n",
    "    r[i] = np.sqrt(X[i,:].dot(X[i,:]))\n",
    "\n",
    "#adding bias term and radius var to X\n",
    "Xb = np.concatenate((ones, r, X), axis=1)"
   ]
  },
  {
   "cell_type": "markdown",
   "metadata": {},
   "source": [
    "## Train Logistic Regression"
   ]
  },
  {
   "cell_type": "code",
   "execution_count": 22,
   "metadata": {},
   "outputs": [
    {
     "name": "stdout",
     "output_type": "stream",
     "text": [
      "0 iteration:  1307.2164323815218\n",
      "100 iteration:  0.1291676633416849\n"
     ]
    },
    {
     "name": "stderr",
     "output_type": "stream",
     "text": [
      "<ipython-input-3-a84ffd82f28f>:7: RuntimeWarning: divide by zero encountered in log\n",
      "  E -= np.log(1 - Y[i])\n"
     ]
    },
    {
     "name": "stdout",
     "output_type": "stream",
     "text": [
      "200 iteration:  0.051771273938275\n",
      "300 iteration:  0.04247996249070793\n",
      "400 iteration:  0.040995559985710736\n",
      "500 iteration:  0.041600230917652956\n",
      "600 iteration:  0.04283105395906944\n",
      "700 iteration:  0.044274094551653986\n",
      "800 iteration:  0.04581089813821023\n",
      "900 iteration:  0.04740825904115947\n",
      "1000 iteration:  0.04905768060317279\n",
      "1100 iteration:  0.05075771504775203\n",
      "1200 iteration:  0.05250887287451807\n",
      "1300 iteration:  0.054312199318763944\n",
      "1400 iteration:  0.05616889120433314\n",
      "1500 iteration:  0.05808019748834106\n",
      "1600 iteration:  0.06004739395218886\n",
      "1700 iteration:  0.06207177658264495\n",
      "1800 iteration:  0.06415465957988994\n",
      "1900 iteration:  0.06629737452484295\n",
      "2000 iteration:  0.06850126984487785\n",
      "2100 iteration:  0.0707677103488645\n",
      "2200 iteration:  0.0730980767614461\n",
      "2300 iteration:  0.07549376523116877\n",
      "2400 iteration:  0.07795618680172191\n",
      "2500 iteration:  0.08048676684103587\n",
      "2600 iteration:  0.08308694442514972\n",
      "2700 iteration:  0.085758171674587\n",
      "2800 iteration:  0.08850191304131551\n",
      "2900 iteration:  0.0913196445443995\n",
      "3000 iteration:  0.0942128529526845\n",
      "3100 iteration:  0.09718303491260101\n",
      "3200 iteration:  0.10023169601941208\n",
      "3300 iteration:  0.10336034983011781\n",
      "3400 iteration:  0.10657051681631388\n",
      "3500 iteration:  0.10986372325526117\n",
      "3600 iteration:  0.11324150005749509\n",
      "3700 iteration:  0.11670538152940155\n",
      "3800 iteration:  0.12025690406905727\n",
      "3900 iteration:  0.12389760479395483\n",
      "4000 iteration:  0.12762902009902583\n",
      "4100 iteration:  0.13145268414370978\n",
      "4200 iteration:  0.13537012726662684\n",
      "4300 iteration:  0.13938287432688748\n",
      "4400 iteration:  0.1434924429707719\n",
      "4500 iteration:  0.1477003418229827\n",
      "4600 iteration:  0.15200806860162588\n",
      "4700 iteration:  0.1564171081562798\n",
      "4800 iteration:  0.16092893042875947\n",
      "4900 iteration:  0.16554498833620665\n"
     ]
    },
    {
     "data": {
      "image/png": "[encoded data removed]",
      "text/plain": [
       "<Figure size 432x288 with 1 Axes>"
      ]
     },
     "metadata": {
      "needs_background": "light"
     },
     "output_type": "display_data"
    },
    {
     "name": "stdout",
     "output_type": "stream",
     "text": [
      "Final w: [-4.10620408e+01  4.83092357e+00 -2.40108618e-02  1.26425591e-02]\n",
      "Final classification rate: 1.0\n"
     ]
    }
   ],
   "source": [
    "#initialize\n",
    "w = np.random.rand(D+2)\n",
    "error = []\n",
    "\n",
    "learning_rate = 0.005\n",
    "l1 = 0.01\n",
    "\n",
    "for i in range(5000):\n",
    "    Y = sigmoid(Xb.dot(w))\n",
    "    e = cross_entropy(T, Y)\n",
    "    error.append(e)\n",
    "    if i % 100 == 0:\n",
    "        print(i, \"iteration: \", e)\n",
    "    \n",
    "    #including L1 regularization term\n",
    "    w += learning_rate * (np.dot((T - Y).T, Xb) - l1*w)\n",
    "    \n",
    "#visualizing error\n",
    "plt.plot(error)\n",
    "plt.title('Cross Entropy')\n",
    "plt.show()\n",
    "\n",
    "print('Final w:', w)\n",
    "print('Final classification rate:', 1 - np.abs(T - np.round(Y)).sum() / N)\n"
   ]
  },
  {
   "cell_type": "markdown",
   "metadata": {},
   "source": [
    "The final classification rate is nearly perfect and the L1 term forced the weights of the X and Y terms to zero as we expected, e.g. the final prediction does not depend on the initial X,Y coordinates at all, but rather entirely on the radius and bias terms."
   ]
  },
  {
   "cell_type": "markdown",
   "metadata": {},
   "source": [
    "# The XOR Problem\n",
    "\n",
    "## Generate Some Data\n",
    "\n",
    "This dataset is of the type XOR which means the target is true only when one of the Xs is true, but not both."
   ]
  },
  {
   "cell_type": "code",
   "execution_count": 23,
   "metadata": {},
   "outputs": [
    {
     "data": {
      "image/png": "[encoded data removed]",
      "text/plain": [
       "<Figure size 432x288 with 1 Axes>"
      ]
     },
     "metadata": {
      "needs_background": "light"
     },
     "output_type": "display_data"
    }
   ],
   "source": [
    "N = 4\n",
    "D = 2\n",
    "\n",
    "X = np.array([\n",
    "    [0, 0],\n",
    "    [0, 1],\n",
    "    [1, 0],\n",
    "    [1, 1]\n",
    "])\n",
    "T = np.array([0, 1, 1, 0])\n",
    "\n",
    "#visualizing data\n",
    "plt.scatter(X[:,0], X[:,1], c=T)\n",
    "plt.show()"
   ]
  },
  {
   "cell_type": "markdown",
   "metadata": {},
   "source": [
    "As evidenced by the plot, there is no line that would separate the data."
   ]
  },
  {
   "cell_type": "markdown",
   "metadata": {},
   "source": [
    "## Feature Engineering\n",
    "\n",
    "Adding a third dimension of multiplying x and y to allow the data to be separated by a plane."
   ]
  },
  {
   "cell_type": "code",
   "execution_count": 24,
   "metadata": {},
   "outputs": [],
   "source": [
    "#add bias term\n",
    "ones = np.array([[1]*N]).T\n",
    "\n",
    "#add 3rd dimension x*y\n",
    "xy = np.matrix(X[:,0] * X[:,1]).T\n",
    "Xb = np.array(np.concatenate((ones, xy, X), axis=1))"
   ]
  },
  {
   "cell_type": "markdown",
   "metadata": {},
   "source": [
    "## Train Model"
   ]
  },
  {
   "cell_type": "code",
   "execution_count": 29,
   "metadata": {},
   "outputs": [
    {
     "name": "stdout",
     "output_type": "stream",
     "text": [
      "0 iteration:  4.058906793454819\n",
      "100 iteration:  1.5591773214202194\n",
      "200 iteration:  1.153783313559204\n",
      "300 iteration:  0.9336845913842124\n",
      "400 iteration:  0.8023545013138316\n",
      "500 iteration:  0.71860656425127\n",
      "600 iteration:  0.6625919977583559\n",
      "700 iteration:  0.6238135885851389\n",
      "800 iteration:  0.5962843903092517\n",
      "900 iteration:  0.576375954295821\n",
      "1000 iteration:  0.5617793284925143\n",
      "1100 iteration:  0.5509666569899461\n",
      "1200 iteration:  0.5428948679976195\n",
      "1300 iteration:  0.5368339334866747\n",
      "1400 iteration:  0.5322627666955312\n",
      "1500 iteration:  0.5288036127385296\n",
      "1600 iteration:  0.5261792779697421\n",
      "1700 iteration:  0.5241844241817478\n",
      "1800 iteration:  0.5226658183372923\n",
      "1900 iteration:  0.5215084570902053\n",
      "2000 iteration:  0.5206256481116438\n",
      "2100 iteration:  0.5199518184532114\n",
      "2200 iteration:  0.5194372399023689\n",
      "2300 iteration:  0.5190441245834112\n",
      "2400 iteration:  0.5187437136739107\n",
      "2500 iteration:  0.5185140941230721\n",
      "2600 iteration:  0.5183385539505632\n",
      "2700 iteration:  0.5182043389238029\n",
      "2800 iteration:  0.5181017101061973\n",
      "2900 iteration:  0.5180232279686595\n",
      "3000 iteration:  0.5179632077187324\n",
      "3100 iteration:  0.5179173043812282\n",
      "3200 iteration:  0.5178821964182989\n",
      "3300 iteration:  0.5178553443094442\n",
      "3400 iteration:  0.5178348062273006\n",
      "3500 iteration:  0.5178190972452562\n",
      "3600 iteration:  0.5178070817603723\n",
      "3700 iteration:  0.517797891274719\n",
      "3800 iteration:  0.5177908615453459\n",
      "3900 iteration:  0.5177854845330003\n",
      "4000 iteration:  0.5177813716608706\n",
      "4100 iteration:  0.5177782257188321\n",
      "4200 iteration:  0.5177758193774048\n",
      "4300 iteration:  0.5177739787556088\n",
      "4400 iteration:  0.5177725708534632\n",
      "4500 iteration:  0.5177714939399208\n",
      "4600 iteration:  0.5177706702010585\n",
      "4700 iteration:  0.5177700401169304\n",
      "4800 iteration:  0.5177695581605548\n",
      "4900 iteration:  0.5177691895081467\n",
      "5000 iteration:  0.5177689075227999\n",
      "5100 iteration:  0.5177686918297757\n",
      "5200 iteration:  0.5177685268442952\n",
      "5300 iteration:  0.5177684006454425\n",
      "5400 iteration:  0.5177683041148149\n",
      "5500 iteration:  0.5177682302776722\n",
      "5600 iteration:  0.5177681737989768\n",
      "5700 iteration:  0.5177681305979117\n",
      "5800 iteration:  0.5177680975530251\n",
      "5900 iteration:  0.5177680722766912\n",
      "6000 iteration:  0.517768052942593\n",
      "6100 iteration:  0.5177680381537653\n",
      "6200 iteration:  0.5177680268416557\n",
      "6300 iteration:  0.5177680181889199\n",
      "6400 iteration:  0.5177680115703632\n",
      "6500 iteration:  0.5177680065077692\n",
      "6600 iteration:  0.5177680026353445\n",
      "6700 iteration:  0.5177679996732912\n",
      "6800 iteration:  0.5177679974075898\n",
      "6900 iteration:  0.5177679956745342\n",
      "7000 iteration:  0.517767994348904\n",
      "7100 iteration:  0.5177679933349176\n",
      "7200 iteration:  0.5177679925593104\n",
      "7300 iteration:  0.5177679919660416\n",
      "7400 iteration:  0.5177679915122443\n",
      "7500 iteration:  0.5177679911651305\n",
      "7600 iteration:  0.5177679908996203\n",
      "7700 iteration:  0.5177679906965288\n",
      "7800 iteration:  0.5177679905411822\n",
      "7900 iteration:  0.517767990422357\n",
      "8000 iteration:  0.5177679903314657\n",
      "8100 iteration:  0.5177679902619426\n",
      "8200 iteration:  0.517767990208763\n",
      "8300 iteration:  0.5177679901680861\n",
      "8400 iteration:  0.5177679901369712\n",
      "8500 iteration:  0.5177679901131717\n",
      "8600 iteration:  0.5177679900949681\n",
      "8700 iteration:  0.5177679900810427\n",
      "8800 iteration:  0.5177679900703912\n",
      "8900 iteration:  0.5177679900622434\n",
      "9000 iteration:  0.5177679900560117\n",
      "9100 iteration:  0.517767990051245\n",
      "9200 iteration:  0.5177679900475992\n",
      "9300 iteration:  0.5177679900448092\n",
      "9400 iteration:  0.5177679900426762\n",
      "9500 iteration:  0.5177679900410443\n",
      "9600 iteration:  0.5177679900397962\n",
      "9700 iteration:  0.5177679900388419\n",
      "9800 iteration:  0.5177679900381116\n",
      "9900 iteration:  0.517767990037553\n"
     ]
    },
    {
     "data": {
      "image/png": "[encoded data removed]",
      "text/plain": [
       "<Figure size 432x288 with 1 Axes>"
      ]
     },
     "metadata": {
      "needs_background": "light"
     },
     "output_type": "display_data"
    },
    {
     "name": "stdout",
     "output_type": "stream",
     "text": [
      "Final w: [-1.59308688 -8.07079816  3.61555934  3.61555934]\n",
      "Final classification rate: 1.0\n"
     ]
    }
   ],
   "source": [
    "#initialize\n",
    "w = np.random.rand(D+2)\n",
    "error = []\n",
    "\n",
    "learning_rate = 0.1\n",
    "l1 = 0.01\n",
    "\n",
    "for i in range(10000):\n",
    "    Y = sigmoid(Xb.dot(w))\n",
    "    e = cross_entropy(T, Y)\n",
    "    error.append(e)\n",
    "    if i % 100 == 0:\n",
    "        print(i, \"iteration: \", e)\n",
    "    \n",
    "    #including L1 regularization term\n",
    "    w += learning_rate * (np.dot((T - Y).T, Xb) - l1*w)\n",
    "    \n",
    "#visualizing error\n",
    "plt.plot(error)\n",
    "plt.title('Cross Entropy')\n",
    "plt.show()\n",
    "\n",
    "print('Final w:', w)\n",
    "print('Final classification rate:', 1 - np.abs(T - np.round(Y)).sum() / N)"
   ]
  }
 ],
 "metadata": {
  "interpreter": {
   "hash": "217afb6d47e1ecfe9bc2bb1d008138758dfc335ae7a13eb273c90375d6240835"
  },
  "kernelspec": {
   "display_name": "Python 3.9.4 64-bit ('test-env': conda)",
   "language": "python",
   "name": "python3"
  },
  "language_info": {
   "codemirror_mode": {
    "name": "ipython",
    "version": 3
   },
   "file_extension": ".py",
   "mimetype": "text/x-python",
   "name": "python",
   "nbconvert_exporter": "python",
   "pygments_lexer": "ipython3",
   "version": "3.9.4"
  },
  "orig_nbformat": 4
 },
 "nbformat": 4,
 "nbformat_minor": 2
}
