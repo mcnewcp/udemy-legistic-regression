{
 "cells": [
  {
   "cell_type": "markdown",
   "metadata": {},
   "source": [
    "# Setting up the logistic regression model."
   ]
  },
  {
   "cell_type": "code",
   "execution_count": 1,
   "metadata": {},
   "outputs": [],
   "source": [
    "import numpy as np\n",
    "\n",
    "#generate some data\n",
    "#number of samples\n",
    "N = 100\n",
    "#dimensionality\n",
    "D = 2\n",
    "X = np.random.randn(N,D)\n",
    "X[:50, :] = X[:50,:] - 2*np.ones((50,D))\n",
    "X[50:, :] = X[50:,:] + 2*np.ones((50,D))\n",
    "\n",
    "#generate some labels (i.e. target variable)\n",
    "T = np.array([0]*50 + [1]*50)\n",
    "\n",
    "#adding bias (intercept) term\n",
    "ones = np.array([[1]*N]).T\n",
    "Xb = np.concatenate((ones, X), axis=1)\n",
    "\n",
    "#randomly initialize weight vector\n",
    "w = np.random.randn(D + 1)\n",
    "\n",
    "#model output\n",
    "z = Xb.dot(w)\n",
    "\n",
    "#add applying the sigmoid function\n",
    "def sigmoid(z):\n",
    "    return 1/(1+np.exp(-z))\n",
    "Y = sigmoid(z)"
   ]
  },
  {
   "cell_type": "markdown",
   "metadata": {},
   "source": [
    "# Defining cross-entropy error function"
   ]
  },
  {
   "cell_type": "code",
   "execution_count": 2,
   "metadata": {},
   "outputs": [
    {
     "name": "stdout",
     "output_type": "stream",
     "text": [
      "170.67907106741808\n"
     ]
    }
   ],
   "source": [
    "def cross_entropy(T, Y):\n",
    "    E = 0\n",
    "    for i in range(N):\n",
    "        if T[i] == 1:\n",
    "            E -= np.log(Y[i])\n",
    "        else:\n",
    "            E -= np.log(1 - Y[i])\n",
    "    return E\n",
    "\n",
    "print(cross_entropy(T, Y))"
   ]
  },
  {
   "cell_type": "markdown",
   "metadata": {},
   "source": [
    "Now using the closed form solution for logistic regression.  This applies here because the assumptions are met:\n",
    "* each class is gaussian distributed\n",
    "* the covariance is equal for each class\n",
    "\n",
    "And so the weights depend only on the means"
   ]
  },
  {
   "cell_type": "code",
   "execution_count": 3,
   "metadata": {},
   "outputs": [
    {
     "name": "stdout",
     "output_type": "stream",
     "text": [
      "0.08770080685935916\n"
     ]
    }
   ],
   "source": [
    "#result from closed form:\n",
    "w = np.array([0, 4, 4])\n",
    "\n",
    "z = Xb.dot(w)\n",
    "Y = sigmoid(z)\n",
    "\n",
    "print(cross_entropy(T, Y))"
   ]
  },
  {
   "cell_type": "markdown",
   "metadata": {},
   "source": [
    "# Visualizing Results"
   ]
  },
  {
   "cell_type": "code",
   "execution_count": 4,
   "metadata": {},
   "outputs": [
    {
     "data": {
      "image/png": "[encoded data removed]",
      "text/plain": [
       "<Figure size 432x288 with 1 Axes>"
      ]
     },
     "metadata": {
      "needs_background": "light"
     },
     "output_type": "display_data"
    }
   ],
   "source": [
    "import matplotlib.pyplot as plt\n",
    "\n",
    "plt.scatter(X[:,0], X[:,1], c=T, s=100, alpha=0.5)\n",
    "\n",
    "x_axis = np.linspace(-6, -6, 100)\n",
    "y_axis = -x_axis\n",
    "plt.plot(x_axis, y_axis)\n",
    "plt.show()"
   ]
  },
  {
   "cell_type": "markdown",
   "metadata": {},
   "source": [
    "# Updating weights by gradient descent"
   ]
  },
  {
   "cell_type": "code",
   "execution_count": 20,
   "metadata": {},
   "outputs": [
    {
     "name": "stdout",
     "output_type": "stream",
     "text": [
      "0.036595294282999416\n",
      "0.036595294282999416\n",
      "2.2732502283356023e-05\n",
      "2.2729787782868194e-05\n",
      "2.2727073930883738e-05\n",
      "2.2724360726514456e-05\n",
      "2.272164817031546e-05\n",
      "2.2718936261398554e-05\n",
      "2.2716224999985776e-05\n",
      "2.2713514385410976e-05\n",
      "2.2710804417785168e-05\n",
      "Final w: [-0.31032258 17.90971009 18.86007136]\n"
     ]
    }
   ],
   "source": [
    "#randomly initialize weight vector\n",
    "w = np.random.randn(D + 1)\n",
    "\n",
    "learning_rate = 0.1\n",
    "print(cross_entropy(T, Y))\n",
    "#100 iterations of gradient descent\n",
    "for i in range(100):\n",
    "    #print cross entropy error every 10 steps\n",
    "    if i % 10 == 0:\n",
    "        print(cross_entropy(T, Y))\n",
    "    w += learning_rate * np.dot((T-Y).T, Xb)\n",
    "    Y = sigmoid(Xb.dot(w))\n",
    "\n",
    "print('Final w:', w)\n"
   ]
  }
 ],
 "metadata": {
  "interpreter": {
   "hash": "217afb6d47e1ecfe9bc2bb1d008138758dfc335ae7a13eb273c90375d6240835"
  },
  "kernelspec": {
   "display_name": "Python 3.9.4 64-bit ('test-env': conda)",
   "language": "python",
   "name": "python3"
  },
  "language_info": {
   "codemirror_mode": {
    "name": "ipython",
    "version": 3
   },
   "file_extension": ".py",
   "mimetype": "text/x-python",
   "name": "python",
   "nbconvert_exporter": "python",
   "pygments_lexer": "ipython3",
   "version": "3.9.4"
  },
  "orig_nbformat": 4
 },
 "nbformat": 4,
 "nbformat_minor": 2
}
